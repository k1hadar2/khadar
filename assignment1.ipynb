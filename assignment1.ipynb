{
  "nbformat": 4,
  "nbformat_minor": 0,
  "metadata": {
    "colab": {
      "provenance": [],
      "authorship_tag": "ABX9TyNu0/0QqCBXWuK1C5OdBmp8",
      "include_colab_link": true
    },
    "kernelspec": {
      "name": "python3",
      "display_name": "Python 3"
    },
    "language_info": {
      "name": "python"
    }
  },
  "cells": [
    {
      "cell_type": "markdown",
      "metadata": {
        "id": "view-in-github",
        "colab_type": "text"
      },
      "source": [
        "<a href=\"https://colab.research.google.com/github/k1hadar2/khadar/blob/main/assignment1.ipynb\" target=\"_parent\"><img src=\"https://colab.research.google.com/assets/colab-badge.svg\" alt=\"Open In Colab\"/></a>"
      ]
    },
    {
      "cell_type": "code",
      "execution_count": null,
      "metadata": {
        "id": "a_6PuD1ZIlK7"
      },
      "outputs": [],
      "source": [
        "import numpy as np\n",
        "list=[1,2,3,4,5,6]\n",
        "print(list)\n",
        "\n",
        "\n",
        "import numpy as np\n",
        "list1=[1,2,,3,4,5,6,7,8,9,10]\n"
      ]
    }
  ]
}