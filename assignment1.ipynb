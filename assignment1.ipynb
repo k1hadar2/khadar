[expe1]{https://github.com/k1hadar2/khadar/blob/main/assignment1.ipynb}
